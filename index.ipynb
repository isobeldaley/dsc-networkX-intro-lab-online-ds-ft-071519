{
 "cells": [
  {
   "cell_type": "markdown",
   "metadata": {},
   "source": [
    "# NetworkX Introduction - Lab\n",
    "\n",
    "## Introduction\n",
    "\n",
    "In this lab, you'll practice some of the introductory skills for NetworkX introduced in the previous lesson.\n",
    "To do this, you'll create a graph to visualize users and businesses from yelp reviews.\n",
    "## Objectives\n",
    "\n",
    "You will be able to:\n",
    "* Create basic network graphs using NetworkX\n",
    "* Add nodes to network graphs with NetworkX\n",
    "* Add edges to network graphs with NetworkX\n",
    "* Visualize network graphs with NetworkX"
   ]
  },
  {
   "cell_type": "markdown",
   "metadata": {},
   "source": [
    "## Import the Data\n",
    "\n",
    "To start, import the data stored in the file 'Yelp_reviews.csv'"
   ]
  },
  {
   "cell_type": "code",
   "execution_count": 2,
   "metadata": {},
   "outputs": [
    {
     "data": {
      "text/html": [
       "<div>\n",
       "<style scoped>\n",
       "    .dataframe tbody tr th:only-of-type {\n",
       "        vertical-align: middle;\n",
       "    }\n",
       "\n",
       "    .dataframe tbody tr th {\n",
       "        vertical-align: top;\n",
       "    }\n",
       "\n",
       "    .dataframe thead th {\n",
       "        text-align: right;\n",
       "    }\n",
       "</style>\n",
       "<table border=\"1\" class=\"dataframe\">\n",
       "  <thead>\n",
       "    <tr style=\"text-align: right;\">\n",
       "      <th></th>\n",
       "      <th>business_id</th>\n",
       "      <th>date</th>\n",
       "      <th>review_id</th>\n",
       "      <th>stars</th>\n",
       "      <th>text</th>\n",
       "      <th>type</th>\n",
       "      <th>user_id</th>\n",
       "      <th>cool</th>\n",
       "      <th>useful</th>\n",
       "      <th>funny</th>\n",
       "    </tr>\n",
       "  </thead>\n",
       "  <tbody>\n",
       "    <tr>\n",
       "      <th>0</th>\n",
       "      <td>7SO_rX1F6rQEl-5s3wZxgQ</td>\n",
       "      <td>2011-10-03</td>\n",
       "      <td>GxaYFCprt-wyqO--vB4PHQ</td>\n",
       "      <td>4</td>\n",
       "      <td>After my last review, somewhat scathing regard...</td>\n",
       "      <td>review</td>\n",
       "      <td>J3I2NClEbD1Xr8lOdjxlqQ</td>\n",
       "      <td>1</td>\n",
       "      <td>2</td>\n",
       "      <td>1</td>\n",
       "    </tr>\n",
       "    <tr>\n",
       "      <th>1</th>\n",
       "      <td>K2_Hmmo5crTYWiT_1sWnfQ</td>\n",
       "      <td>2011-12-22</td>\n",
       "      <td>FSrIgThMfFIh__TubVQkxw</td>\n",
       "      <td>3</td>\n",
       "      <td>Ok, so I'm catching up on past-due reviews.  F...</td>\n",
       "      <td>review</td>\n",
       "      <td>J3I2NClEbD1Xr8lOdjxlqQ</td>\n",
       "      <td>0</td>\n",
       "      <td>0</td>\n",
       "      <td>0</td>\n",
       "    </tr>\n",
       "    <tr>\n",
       "      <th>2</th>\n",
       "      <td>FeI75xIG8PF_XZ6P80gLBQ</td>\n",
       "      <td>2012-06-04</td>\n",
       "      <td>eeJ10gamdNebtq028i0BvA</td>\n",
       "      <td>3</td>\n",
       "      <td>I want to like Turf, but the food is just okay...</td>\n",
       "      <td>review</td>\n",
       "      <td>64YY0h0ZAR2nbzxbx0IwJg</td>\n",
       "      <td>2</td>\n",
       "      <td>1</td>\n",
       "      <td>0</td>\n",
       "    </tr>\n",
       "    <tr>\n",
       "      <th>3</th>\n",
       "      <td>6imLt53br7SJ3av07jjH7w</td>\n",
       "      <td>2012-11-06</td>\n",
       "      <td>SPDbkT9WXghJedf1xxYnOg</td>\n",
       "      <td>5</td>\n",
       "      <td>It's the place to be. \\n\\nI went before headin...</td>\n",
       "      <td>review</td>\n",
       "      <td>Ypz7hxOCnrg8Y8vxHJU-sQ</td>\n",
       "      <td>0</td>\n",
       "      <td>0</td>\n",
       "      <td>0</td>\n",
       "    </tr>\n",
       "    <tr>\n",
       "      <th>4</th>\n",
       "      <td>zmFc8M-hS4uuyY0hklIpoQ</td>\n",
       "      <td>2011-01-17</td>\n",
       "      <td>A2lCUSvDJfIa5kwUoFFk8A</td>\n",
       "      <td>4</td>\n",
       "      <td>A definite favorite in the neighborhood.\\n\\nTh...</td>\n",
       "      <td>review</td>\n",
       "      <td>nDBly08j5URmrHQ2JCbyiw</td>\n",
       "      <td>2</td>\n",
       "      <td>3</td>\n",
       "      <td>2</td>\n",
       "    </tr>\n",
       "  </tbody>\n",
       "</table>\n",
       "</div>"
      ],
      "text/plain": [
       "              business_id        date               review_id  stars  \\\n",
       "0  7SO_rX1F6rQEl-5s3wZxgQ  2011-10-03  GxaYFCprt-wyqO--vB4PHQ      4   \n",
       "1  K2_Hmmo5crTYWiT_1sWnfQ  2011-12-22  FSrIgThMfFIh__TubVQkxw      3   \n",
       "2  FeI75xIG8PF_XZ6P80gLBQ  2012-06-04  eeJ10gamdNebtq028i0BvA      3   \n",
       "3  6imLt53br7SJ3av07jjH7w  2012-11-06  SPDbkT9WXghJedf1xxYnOg      5   \n",
       "4  zmFc8M-hS4uuyY0hklIpoQ  2011-01-17  A2lCUSvDJfIa5kwUoFFk8A      4   \n",
       "\n",
       "                                                text    type  \\\n",
       "0  After my last review, somewhat scathing regard...  review   \n",
       "1  Ok, so I'm catching up on past-due reviews.  F...  review   \n",
       "2  I want to like Turf, but the food is just okay...  review   \n",
       "3  It's the place to be. \\n\\nI went before headin...  review   \n",
       "4  A definite favorite in the neighborhood.\\n\\nTh...  review   \n",
       "\n",
       "                  user_id  cool  useful  funny  \n",
       "0  J3I2NClEbD1Xr8lOdjxlqQ     1       2      1  \n",
       "1  J3I2NClEbD1Xr8lOdjxlqQ     0       0      0  \n",
       "2  64YY0h0ZAR2nbzxbx0IwJg     2       1      0  \n",
       "3  Ypz7hxOCnrg8Y8vxHJU-sQ     0       0      0  \n",
       "4  nDBly08j5URmrHQ2JCbyiw     2       3      2  "
      ]
     },
     "execution_count": 2,
     "metadata": {},
     "output_type": "execute_result"
    }
   ],
   "source": [
    "#Your code here\n",
    "import pandas as pd\n",
    "df = pd.read_csv('Yelp_reviews.csv')\n",
    "df.head()"
   ]
  },
  {
   "cell_type": "markdown",
   "metadata": {},
   "source": [
    "## Creating a Graph\n",
    "\n",
    "Now, create an initial graph!"
   ]
  },
  {
   "cell_type": "code",
   "execution_count": 3,
   "metadata": {},
   "outputs": [],
   "source": [
    "#Your code here\n",
    "import networkx as nx\n",
    "G = nx.Graph()"
   ]
  },
  {
   "cell_type": "markdown",
   "metadata": {},
   "source": [
    "## Adding Nodes"
   ]
  },
  {
   "cell_type": "markdown",
   "metadata": {},
   "source": [
    "Create a node for each user and each business in the dataset. Networks with multiple node types like this are called **bimodal networks**.\n",
    "\n",
    "Optionally, go further by creating a list of colors for when you visualize the graph. If you do this, append the color \"green\" to your color list every time you add a user node and append the color \"blue\" to your color list every time you add a business node."
   ]
  },
  {
   "cell_type": "code",
   "execution_count": 13,
   "metadata": {},
   "outputs": [
    {
     "data": {
      "text/plain": [
       "['J3I2NClEbD1Xr8lOdjxlqQ',\n",
       " '64YY0h0ZAR2nbzxbx0IwJg',\n",
       " 'Ypz7hxOCnrg8Y8vxHJU-sQ',\n",
       " 'nDBly08j5URmrHQ2JCbyiw',\n",
       " '8qSr4B1NJL99rlylewUjOw',\n",
       " 'V1k7XMUX4qHVUi-3IUYzhA',\n",
       " 'w225lKHnX3jorkSXWgss0Q',\n",
       " 'JffajLV-Dnn-eGYgdXDxFg',\n",
       " 'wLuDGMXytNVTF8ZU2gwUEQ',\n",
       " 'X_kPh3nt0AJPNPHye2rTlA',\n",
       " 'xkTbpCc-YhU8-EXZDA7u0g',\n",
       " '3SIjo6vQIvxwHKEpIHfaBg',\n",
       " 'APLIPfq1Rf8QyhHHk2uAyA',\n",
       " 'SW5RpjVtyMhxdzuA8dOdYA',\n",
       " '-OMlS6yWkYjVldNhC31wYg',\n",
       " 'nSLrExcVVphiNzvSf5H7vA',\n",
       " '-txH2zJSBZQHO6RWvoWXuQ',\n",
       " 'yy8vNTtESId44OcGyaVnbw',\n",
       " 'ehtcnF3Ebvq23p107LcsuA',\n",
       " 'XMEBJp8mmpz3vsSkvg9T9Q',\n",
       " 'tiyg_cQaPdUuSG95Xpi_sA',\n",
       " 'd1zJj49Q5ikgvqQX0534RQ',\n",
       " 'vhAn390OgR1H4DwacJdc7w',\n",
       " 'Lmgv46LyI1PlLs0KNIfYFQ',\n",
       " 'ryjqXdp68i2I9JPOpX9URw',\n",
       " 'W_QXYA7A0IhMrvbckz7eVg',\n",
       " 'clTYUJCL-rHnVIS2WePRwA',\n",
       " 'k1ACFw3wmqkNGoiGeNLc0w',\n",
       " 'fev0iI-XDrteD4SYRKjiUw',\n",
       " 'cg4em4uXe5ab5qH7pB01gg',\n",
       " 'XqU1PB0XWjcr3sUyZZGaWQ',\n",
       " 'XLah_ynCwwYshCY9jc13tw',\n",
       " 'q5nFaw9isjD_01PpVAR7hg',\n",
       " 'B_leEp0XWSNi5_HQ_BLAAg',\n",
       " 'n_lAaNGeWgspbbCJc0DqRg',\n",
       " 'XY_bQqhZfyyEi_W5n4kQNg',\n",
       " 'ZmIgP4U4Ht9CYmNX0_zP6w',\n",
       " 'P2vHl_ZzSzeu07W29KsKgg',\n",
       " '3ONPPazUH-Q3XblYJIaA1A',\n",
       " 'NPoOEAPspruMOik-9sKQtQ',\n",
       " 'sLuaWOJNALukrThYzqovzA',\n",
       " 'm59OpbCyRwXSvERXeevWqg',\n",
       " 'o33IBagNFxdJhIrRTl691Q',\n",
       " 'hebXGQk5ggZSwTlUoEcTWQ',\n",
       " 'tdoL4Un5_hy_rJxEFLLOjw',\n",
       " 'zqnAdayPsak5dbLF2gEvNw',\n",
       " 'W9h1ufjEzDp7THyAqRw65g',\n",
       " 'jdeNI5TTTuM6mj3HTgstRA',\n",
       " 'oRRHrcRPcEAnOepF3KPfsg',\n",
       " 'M6oU3OBf_E6gqlfkLGlStQ',\n",
       " 'bBS2Qsf--DYRXbYe5q4CcQ',\n",
       " '2y3LWFfyRp02EdjwcVv7sw',\n",
       " 'O758lrR1X2zI-ySeyjdr6A',\n",
       " '7o7MF9B9lxcWupE8jiLOaQ',\n",
       " 'OksbhhgC71Ary3zNHMypeQ',\n",
       " '7zDqr2I0-xpw9HF5Ha54cA',\n",
       " 'o2CGc1kQHEFkYOECM3NFdg',\n",
       " 'ai2W745a8wrLHJr7TY0FCA',\n",
       " 'kq5Pdsy8Znyh9KEkxWT_QA',\n",
       " 'Cj6tGJrLEdN35H9cR6b8Lw',\n",
       " 'wDAAn0HlnuZQnfga6CVIKQ',\n",
       " 'n4PmRYAvx2c6X0-fb9mT9Q',\n",
       " '2tyadgcxcaEu5LWgLdwLAQ']"
      ]
     },
     "execution_count": 13,
     "metadata": {},
     "output_type": "execute_result"
    }
   ],
   "source": [
    "list(df['user_id'].unique())"
   ]
  },
  {
   "cell_type": "code",
   "execution_count": 12,
   "metadata": {},
   "outputs": [],
   "source": [
    "#Your code here\n",
    "colours = []\n",
    "\n",
    "for business in list(df['business_id'].unique()):\n",
    "    \n",
    "    G.add_node(business)\n",
    "    colours.append('blue')\n",
    "\n",
    "for customer in list(df['user_id'].unique()):\n",
    "    \n",
    "    G.add_node(customer)\n",
    "    colours.append('green')"
   ]
  },
  {
   "cell_type": "markdown",
   "metadata": {},
   "source": [
    "## Adding Edges\n",
    "\n",
    "Next, iterate through the dataset and create an edge between users and the businesses they have reviewed."
   ]
  },
  {
   "cell_type": "code",
   "execution_count": 16,
   "metadata": {},
   "outputs": [
    {
     "data": {
      "text/plain": [
       "['7SO_rX1F6rQEl-5s3wZxgQ', 'K2_Hmmo5crTYWiT_1sWnfQ', 'Dsvx2LEC8jk9nuGsg1Kqhg']"
      ]
     },
     "execution_count": 16,
     "metadata": {},
     "output_type": "execute_result"
    }
   ],
   "source": [
    "#Your code here\n",
    "list(df.loc[df['user_id']=='J3I2NClEbD1Xr8lOdjxlqQ', 'business_id'])"
   ]
  },
  {
   "cell_type": "code",
   "execution_count": 18,
   "metadata": {},
   "outputs": [],
   "source": [
    "for customer in list(df['user_id'].unique()):\n",
    "    \n",
    "    reviewed_businesses = list(df.loc[df['user_id']==customer, 'business_id'])\n",
    "    \n",
    "    for business in reviewed_businesses:\n",
    "        \n",
    "        G.add_edge(customer, business)"
   ]
  },
  {
   "cell_type": "markdown",
   "metadata": {},
   "source": [
    "## Visualizing the Graph\n",
    "\n",
    "Finally, create a visualization of your network. If you chose to color your nodes, pass the list of colors through the optional `node_color` parameter."
   ]
  },
  {
   "cell_type": "code",
   "execution_count": 21,
   "metadata": {},
   "outputs": [
    {
     "data": {
      "image/png": "[encoded data removed]",
      "text/plain": [
       "<Figure size 432x288 with 1 Axes>"
      ]
     },
     "metadata": {},
     "output_type": "display_data"
    }
   ],
   "source": [
    "#Your code here\n",
    "%matplotlib inline\n",
    "nx.draw(G, with_labels=False, node_color=colours, node_size=150, alpha=.7, font_weight=\"bold\")"
   ]
  },
  {
   "cell_type": "markdown",
   "metadata": {},
   "source": [
    "## Summary\n",
    "\n",
    "Nice work! In this lab you created an initial network to visualize a bimodal network of businesses and yelp reviewers!"
   ]
  }
 ],
 "metadata": {
  "kernelspec": {
   "display_name": "Python 3",
   "language": "python",
   "name": "python3"
  },
  "language_info": {
   "codemirror_mode": {
    "name": "ipython",
    "version": 3
   },
   "file_extension": ".py",
   "mimetype": "text/x-python",
   "name": "python",
   "nbconvert_exporter": "python",
   "pygments_lexer": "ipython3",
   "version": "3.7.3"
  }
 },
 "nbformat": 4,
 "nbformat_minor": 2
}
